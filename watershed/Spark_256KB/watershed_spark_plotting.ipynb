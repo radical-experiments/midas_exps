{
 "cells": [
  {
   "cell_type": "markdown",
   "metadata": {},
   "source": [
    "# Plots of Watershed Algorithm on Comet Using Spark"
   ]
  },
  {
   "cell_type": "code",
   "execution_count": 1,
   "metadata": {},
   "outputs": [
    {
     "data": {
      "text/html": [
       "<style>.container { width:100% !important; }</style>"
      ],
      "text/plain": [
       "<IPython.core.display.HTML object>"
      ]
     },
     "metadata": {},
     "output_type": "display_data"
    }
   ],
   "source": [
    "%matplotlib inline\n",
    "from __future__ import division\n",
    "import numpy as np\n",
    "import matplotlib.pyplot as plt\n",
    "from matplotlib import cm\n",
    "import pandas as pd\n",
    "import glob\n",
    "import re\n",
    "\n",
    "from IPython.core.display import display, HTML\n",
    "display(HTML(\"<style>.container { width:100% !important; }</style>\"))"
   ]
  },
  {
   "cell_type": "code",
   "execution_count": 2,
   "metadata": {},
   "outputs": [],
   "source": [
    "def SparkLogToDataFrame(filename):\n",
    "    import json\n",
    "    import pandas\n",
    "    import numpy as np\n",
    "\n",
    "    columns=['StageID','TaskId','ExecutorID','LaunchTime','SchedulerDelay','DeserializeTime','Runtime','GettingResultTime','ResultSerializationTime','FinishTime','ResultSize']\n",
    "\n",
    "    stat_file=open(filename)\n",
    "    stats=list();\n",
    "    for line in stat_file:\n",
    "        stats.append(json.loads(line))\n",
    "\n",
    "    data=pandas.DataFrame(columns=columns,dtype=np.int64)\n",
    "    data_point = np.zeros((1,11),dtype=np.int64)\n",
    "    for stat in stats:\n",
    "        if stat['Event'] == 'SparkListenerTaskEnd':\n",
    "            data_point[0,0] = int(stat['Stage ID'])\n",
    "            data_point[0,1] = int(stat['Task Info']['Task ID'])\n",
    "            data_point[0,2] = int(stat['Task Info']['Executor ID'])\n",
    "            data_point[0,3] = int(stat['Task Info']['Launch Time'])\n",
    "            data_point[0,5] = int(stat['Task Metrics']['Executor Deserialize Time'])\n",
    "            data_point[0,6] = int(stat['Task Metrics']['Executor Run Time'])\n",
    "            data_point[0,7] = int(stat['Task Info']['Finish Time'])-int(stat['Task Info']['Getting Result Time']) if int(stat['Task Info']['Getting Result Time'])!=0 else 0 \n",
    "            data_point[0,8] = int(stat['Task Metrics']['Result Serialization Time'])\n",
    "            data_point[0,9] = int(stat['Task Info']['Finish Time'])\n",
    "            data_point[0,10] = int(stat['Task Metrics']['Result Size'])\n",
    "            \n",
    "            data_point[0,4]= data_point[0,9]-data_point[0,3]-data_point[0,5]-data_point[0,6]-data_point[0,8]-data_point[0,7]\n",
    "            data_case = pandas.DataFrame(data_point,columns=columns)\n",
    "            data = data.append(data_case,ignore_index=True)\n",
    "            \n",
    "    return data"
   ]
  },
  {
   "cell_type": "code",
   "execution_count": 3,
   "metadata": {},
   "outputs": [],
   "source": [
    "folders = glob.glob('*/app-*')\n",
    "plotting_df = pd.DataFrame(columns=['Nodes','Time_ms', 'Scaling'])\n",
    "for name in folders:\n",
    "    df = SparkLogToDataFrame(name)\n",
    "    time = df['FinishTime'].max()-df['LaunchTime'].min()\n",
    "    time /= 1000.\n",
    "    node = int(re.findall('\\d+', name)[0])\n",
    "    if 'W' in name:\n",
    "        scale = 'W'\n",
    "    elif 'S' in name:\n",
    "        scale = 'S'\n",
    "    else:\n",
    "        scale = 'WS'\n",
    "    plotting_df.loc[len(plotting_df)]=[node, time, scale]"
   ]
  },
  {
   "cell_type": "markdown",
   "metadata": {},
   "source": [
    "Calculate the mean and standard deviation of Spark times"
   ]
  },
  {
   "cell_type": "code",
   "execution_count": 10,
   "metadata": {},
   "outputs": [],
   "source": [
    "test_iterations = 15\n",
    "tests = len(plotting_df)\n",
    "num_tests = tests / test_iterations \n",
    "\n",
    "times_spark = pd.DataFrame(columns=['nodes','time'])\n",
    "scaling = list()\n",
    "stderr = list()\n",
    "for i in range(int(num_tests)):\n",
    "    times_spark.loc[i] = plotting_df[i*test_iterations : (i+1)*test_iterations].mean().values\n",
    "    scaling.append(plotting_df['Scaling'][i*test_iterations])\n",
    "    stderr.append(plotting_df['Time_ms'][i*test_iterations : (i+1)*test_iterations].std()) \n",
    "    \n",
    "times_spark['scaling'] = scaling\n",
    "times_spark['stderr'] = stderr\n",
    "\n",
    "times_spark = times_spark.sort_values(by=['nodes']).set_index(['nodes'])"
   ]
  },
  {
   "cell_type": "markdown",
   "metadata": {},
   "source": [
    "Plot mean Spark mean times"
   ]
  },
  {
   "cell_type": "code",
   "execution_count": 11,
   "metadata": {},
   "outputs": [],
   "source": [
    "yticks = [1, 10, 100, 1000, 10000, 100000]\n",
    "yticklabels = [str(ytick) for ytick in yticks]\n",
    "\n",
    "xticklabels = ['1','2','4','8']\n",
    "\n",
    "blues   = cm.get_cmap(plt.get_cmap('Blues'))\n",
    "greens  = cm.get_cmap(plt.get_cmap('Greens'))\n",
    "reds    = cm.get_cmap(plt.get_cmap('Reds'))\n",
    "oranges = cm.get_cmap(plt.get_cmap('Oranges'))\n",
    "purples = cm.get_cmap(plt.get_cmap('Purples'))\n",
    "greys   = cm.get_cmap(plt.get_cmap('Greys'))\n",
    "\n",
    "weak_client_color = blues(0.7)\n",
    "weak_task_color = blues(0.4)\n",
    "strong_client_color = oranges(0.5)\n",
    "strong_task_color = oranges(0.2)"
   ]
  },
  {
   "cell_type": "code",
   "execution_count": 12,
   "metadata": {},
   "outputs": [
    {
     "data": {
      "text/html": [
       "<div>\n",
       "<style scoped>\n",
       "    .dataframe tbody tr th:only-of-type {\n",
       "        vertical-align: middle;\n",
       "    }\n",
       "\n",
       "    .dataframe tbody tr th {\n",
       "        vertical-align: top;\n",
       "    }\n",
       "\n",
       "    .dataframe thead th {\n",
       "        text-align: right;\n",
       "    }\n",
       "</style>\n",
       "<table border=\"1\" class=\"dataframe\">\n",
       "  <thead>\n",
       "    <tr style=\"text-align: right;\">\n",
       "      <th></th>\n",
       "      <th>time</th>\n",
       "      <th>scaling</th>\n",
       "      <th>stderr</th>\n",
       "    </tr>\n",
       "    <tr>\n",
       "      <th>nodes</th>\n",
       "      <th></th>\n",
       "      <th></th>\n",
       "      <th></th>\n",
       "    </tr>\n",
       "  </thead>\n",
       "  <tbody>\n",
       "    <tr>\n",
       "      <th>1.466667</th>\n",
       "      <td>223.534000</td>\n",
       "      <td>W</td>\n",
       "      <td>136.837710</td>\n",
       "    </tr>\n",
       "    <tr>\n",
       "      <th>1.600000</th>\n",
       "      <td>1000.733267</td>\n",
       "      <td>W</td>\n",
       "      <td>361.941540</td>\n",
       "    </tr>\n",
       "    <tr>\n",
       "      <th>2.000000</th>\n",
       "      <td>250.772500</td>\n",
       "      <td>W</td>\n",
       "      <td>156.936057</td>\n",
       "    </tr>\n",
       "    <tr>\n",
       "      <th>3.466667</th>\n",
       "      <td>381.443867</td>\n",
       "      <td>W</td>\n",
       "      <td>193.283388</td>\n",
       "    </tr>\n",
       "    <tr>\n",
       "      <th>4.000000</th>\n",
       "      <td>759.151467</td>\n",
       "      <td>S</td>\n",
       "      <td>464.970746</td>\n",
       "    </tr>\n",
       "    <tr>\n",
       "      <th>4.000000</th>\n",
       "      <td>654.893800</td>\n",
       "      <td>S</td>\n",
       "      <td>478.530569</td>\n",
       "    </tr>\n",
       "    <tr>\n",
       "      <th>5.600000</th>\n",
       "      <td>421.834933</td>\n",
       "      <td>S</td>\n",
       "      <td>190.329635</td>\n",
       "    </tr>\n",
       "  </tbody>\n",
       "</table>\n",
       "</div>"
      ],
      "text/plain": [
       "                 time scaling      stderr\n",
       "nodes                                    \n",
       "1.466667   223.534000       W  136.837710\n",
       "1.600000  1000.733267       W  361.941540\n",
       "2.000000   250.772500       W  156.936057\n",
       "3.466667   381.443867       W  193.283388\n",
       "4.000000   759.151467       S  464.970746\n",
       "4.000000   654.893800       S  478.530569\n",
       "5.600000   421.834933       S  190.329635"
      ]
     },
     "execution_count": 12,
     "metadata": {},
     "output_type": "execute_result"
    }
   ],
   "source": [
    "times_spark"
   ]
  },
  {
   "cell_type": "code",
   "execution_count": 13,
   "metadata": {},
   "outputs": [
    {
     "data": {
      "text/plain": [
       "<matplotlib.legend.Legend at 0x7fd9b1041990>"
      ]
     },
     "execution_count": 13,
     "metadata": {},
     "output_type": "execute_result"
    },
    {
     "data": {
      "image/png": "[encoded data removed]",
      "text/plain": [
       "<Figure size 864x720 with 2 Axes>"
      ]
     },
     "metadata": {
      "needs_background": "light"
     },
     "output_type": "display_data"
    }
   ],
   "source": [
    "weak_mean    = times_spark.where((times_spark['scaling'] == 'W') | (times_spark['scaling'] == 'WS')).dropna().drop(columns=['scaling', 'stderr'])\n",
    "weak_error   = times_spark.where((times_spark['scaling'] == 'W') | (times_spark['scaling'] == 'WS')).dropna().drop(columns=['scaling', 'time'])['stderr']\n",
    "strong_mean  = times_spark.where((times_spark['scaling'] == 'S') | (times_spark['scaling'] == 'WS')).dropna().drop(columns=['scaling', 'stderr'])\n",
    "strong_error = times_spark.where((times_spark['scaling'] == 'S') | (times_spark['scaling'] == 'WS')).dropna().drop(columns=['scaling', 'time'])['stderr']\n",
    "\n",
    "fig, axes = plt.subplots(nrows=2,ncols=1,sharex=True,sharey=True)\n",
    "fig.set_size_inches(12,10)\n",
    "width = 0.2\n",
    "\n",
    "def merge_dicts(x, y):\n",
    "    z = x.copy()   # start with x's keys and values\n",
    "    z.update(y)    # modifies z with y's keys and values & returns None\n",
    "    return z\n",
    "\n",
    "shared_kwargs = {'kind'     : 'bar',\n",
    "                 'log'      : True,\n",
    "                 'fontsize' : 14\n",
    "                }\n",
    "\n",
    "weak_title    = {'title'    : 'Weak Scaling of Watershed Algorithm Using Spark (24 tasks per node)',\n",
    "                 'ax'       : axes[0],\n",
    "                 'yerr'     : weak_error,\n",
    "                 'color'    : [weak_client_color]\n",
    "                  }\n",
    "strong_title  = {'title'    : 'Strong Scaling of Watershed Algorithm Using Spark (192 tasks in total)',\n",
    "                 'ax'       : axes[1],\n",
    "                 'yerr'     : strong_error,\n",
    "                 'color'    : [strong_client_color]\n",
    "                }\n",
    "\n",
    "weak_kwargs     = merge_dicts(shared_kwargs, weak_title)\n",
    "weak_scale_plot = weak_mean.plot(**weak_kwargs)\n",
    "weak_scale_plot.set_ylabel('Duration (seconds)', fontsize=14)\n",
    "weak_scale_plot.set_yticks([1, 10, 100, 1000])\n",
    "weak_scale_plot.set_yticklabels(['1','10','100','1000'], fontsize=14)\n",
    "weak_scale_plot.grid('on', which='both', linestyle=':')\n",
    "axes[0].legend(['Total Time for Task Execution'])\n",
    "\n",
    "strong_kwargs     = merge_dicts(shared_kwargs, strong_title)\n",
    "strong_scale_plot = strong_mean.plot(**strong_kwargs)\n",
    "strong_scale_plot.set_ylabel('Duration (seconds)', fontsize=14)\n",
    "strong_scale_plot.set_yticks([1, 10, 100, 1000])\n",
    "strong_scale_plot.set_yticklabels(['1','10','100','1000'], fontsize=14)\n",
    "strong_scale_plot.set_xticklabels(['1','2','4','8'], rotation=0, fontsize=14)\n",
    "strong_scale_plot.grid('on', which='both', linestyle=':')\n",
    "strong_scale_plot.set_xlabel('Nodes', fontsize=14)\n",
    "axes[1].legend(['Total Time for Task Execution'])"
   ]
  },
  {
   "cell_type": "code",
   "execution_count": null,
   "metadata": {},
   "outputs": [],
   "source": []
  }
 ],
 "metadata": {
  "kernelspec": {
   "display_name": "Python 2",
   "language": "python",
   "name": "python2"
  },
  "language_info": {
   "codemirror_mode": {
    "name": "ipython",
    "version": 2
   },
   "file_extension": ".py",
   "mimetype": "text/x-python",
   "name": "python",
   "nbconvert_exporter": "python",
   "pygments_lexer": "ipython2",
   "version": "2.7.15"
  }
 },
 "nbformat": 4,
 "nbformat_minor": 2
}
