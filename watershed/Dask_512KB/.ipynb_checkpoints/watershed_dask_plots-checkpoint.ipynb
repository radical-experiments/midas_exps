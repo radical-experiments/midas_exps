{
 "cells": [
  {
   "cell_type": "markdown",
   "metadata": {},
   "source": [
    "# Plots of Watershed Algorithm on Dask"
   ]
  },
  {
   "cell_type": "code",
   "execution_count": 13,
   "metadata": {},
   "outputs": [
    {
     "data": {
      "text/html": [
       "<style>.container { width:100% !important; }</style>"
      ],
      "text/plain": [
       "<IPython.core.display.HTML object>"
      ]
     },
     "metadata": {},
     "output_type": "display_data"
    }
   ],
   "source": [
    "%matplotlib inline\n",
    "import os\n",
    "import pandas as pd\n",
    "pd.options.display.width = 180\n",
    "import matplotlib.pyplot as plt\n",
    "from matplotlib import cm\n",
    "import glob\n",
    "from glob import glob\n",
    "\n",
    "from pprint import PrettyPrinter\n",
    "pp = PrettyPrinter(indent=4).pprint\n",
    "\n",
    "import numpy as np\n",
    "\n",
    "import ast\n",
    "from bokeh.palettes import viridis\n",
    "from toolz import valmap, merge, memoize\n",
    "import random\n",
    "import itertools\n",
    "\n",
    "from IPython.core.display import display, HTML\n",
    "display(HTML(\"<style>.container { width:100% !important; }</style>\"))\n",
    "\n",
    "import warnings\n",
    "warnings.filterwarnings('ignore')\n",
    "\n",
    "def merge_dicts(x, y):\n",
    "    z = x.copy()   # start with x's keys and values\n",
    "    z.update(y)    # modifies z with y's keys and values & returns None\n",
    "    return z"
   ]
  },
  {
   "cell_type": "markdown",
   "metadata": {},
   "source": [
    "Wrangle data from watershed dask runs"
   ]
  },
  {
   "cell_type": "code",
   "execution_count": 14,
   "metadata": {},
   "outputs": [],
   "source": [
    "task_stream_palette = list(viridis(25))\n",
    "random.shuffle(task_stream_palette)\n",
    "\n",
    "counter = itertools.count()\n",
    "\n",
    "_incrementing_index_cache = dict()\n",
    "\n",
    "\n",
    "@memoize(cache=_incrementing_index_cache)\n",
    "def incrementing_index(o):\n",
    "    return next(counter)\n",
    "\n",
    "\n",
    "def color_of(o, palette=task_stream_palette):\n",
    "    return palette[incrementing_index(o) % len(palette)]\n",
    "\n",
    "def color_of_message(key):\n",
    "        return color_of(key)\n",
    "\n",
    "colors = {'transfer': 'red',\n",
    "          'disk-write': 'orange',\n",
    "          'disk-read': 'orange',\n",
    "          'deserialize': 'gray',\n",
    "          'compute': color_of_message}\n",
    "\n",
    "\n",
    "alphas = {'transfer': 0.4,\n",
    "          'compute': 1,\n",
    "          'deserialize': 0.4,\n",
    "          'disk-write': 0.4,\n",
    "          'disk-read': 0.4}\n",
    "\n",
    "\n",
    "prefix = {'transfer': 'transfer-',\n",
    "          'disk-write': 'disk-write-',\n",
    "          'disk-read': 'disk-read-',\n",
    "          'deserialize': 'deserialize-',\n",
    "          'compute': ''}\n",
    "\n",
    "\n",
    "def key_split(s):\n",
    "\n",
    "    if type(s) is bytes:\n",
    "        s = s.decode()\n",
    "    if type(s) is tuple:\n",
    "        s = s[0]\n",
    "    try:\n",
    "        words = s.split('-')\n",
    "        if not words[0][0].isalpha():\n",
    "            result = words[0].lstrip(\"'(\\\"\")\n",
    "        else:\n",
    "            result = words[0]\n",
    "        for word in words[1:]:\n",
    "            if word.isalpha() and not (len(word) == 8 and\n",
    "                                       hex_pattern.match(word) is not None):\n",
    "                result += '-' + word\n",
    "            else:\n",
    "                break\n",
    "        if len(result) == 32 and re.match(r'[a-f0-9]{32}', result):\n",
    "            return 'data'\n",
    "        else:\n",
    "            if result[0] == '<':\n",
    "                result = result.strip('<>').split()[0].split('.')[-1]\n",
    "            return result\n",
    "    except:\n",
    "        return 'Other'\n",
    "\n",
    "\n",
    "\n",
    "def daskprofiler(filename):\n",
    "\n",
    "    profFile = open(filename)\n",
    "    profiles = profFile.readlines()\n",
    "    buffer = [ast.literal_eval(x) for x in profiles]\n",
    "    workIds = {}\n",
    "    id = 1\n",
    "\n",
    "    L_start = []\n",
    "    L_stop = []\n",
    "    L_duration = []\n",
    "    L_key = []\n",
    "    L_action = []\n",
    "    L_name = []\n",
    "    L_color = []\n",
    "    L_alpha = []\n",
    "    L_y = []\n",
    "\n",
    "    for msg in buffer:\n",
    "        key = msg[0]\n",
    "        name = key_split(key)\n",
    "        startstops = msg[-1]\n",
    "        if not workIds.has_key(msg[3]):\n",
    "            workIds[msg[3]]=id\n",
    "            id+=1\n",
    "\n",
    "        for action, start, stop in startstops:\n",
    "            color = colors[action]\n",
    "            if type(color) is not str:\n",
    "                color = color(name)\n",
    "\n",
    "            L_start.append(start)\n",
    "            L_stop.append(stop)\n",
    "            L_duration.append((stop - start))\n",
    "            L_key.append(key)\n",
    "            L_action.append(action)\n",
    "            L_name.append(name)\n",
    "            L_color.append(color)\n",
    "            L_alpha.append(alphas[action])\n",
    "            L_y.append(workIds[msg[3]])\n",
    "\n",
    "\n",
    "    return pd.DataFrame.from_dict({'start': L_start,\n",
    "                                   'stop': L_stop,\n",
    "                                   'duration': L_duration,\n",
    "                                   'key': L_key,\n",
    "                                   'name': L_name,\n",
    "                                   'action':L_action,\n",
    "                                   'color': L_color,\n",
    "                                   'alpha': L_alpha,\n",
    "                                   'y': L_y\n",
    "                                  })"
   ]
  },
  {
   "cell_type": "markdown",
   "metadata": {},
   "source": [
    "# Wrangle data from watershed dask runs"
   ]
  },
  {
   "cell_type": "markdown",
   "metadata": {},
   "source": [
    "### Constants"
   ]
  },
  {
   "cell_type": "code",
   "execution_count": 15,
   "metadata": {},
   "outputs": [],
   "source": [
    "folder = 'data'\n",
    "size = '512KB'\n",
    "\n",
    "data_range = '[0-2]'\n",
    "weak_data_configs   = [{'config' : '24tasks_24cores_{size}_{data_range}'.format(size=size,  data_range=data_range),   'nodes' : 1},\n",
    "                       {'config' : '48tasks_48cores_{size}_{data_range}'.format(size=size,  data_range=data_range),   'nodes' : 2},\n",
    "                       {'config' : '96tasks_96cores_{size}_{data_range}'.format(size=size,  data_range=data_range),   'nodes' : 4},\n",
    "                       {'config' : '192tasks_192cores_{size}_{data_range}'.format(size=size,  data_range=data_range), 'nodes' : 8}\n",
    "                      ]\n",
    "strong_data_configs = [{'config' : '192tasks_24cores_{size}_{data_range}'.format(size=size,  data_range=data_range),  'nodes' : 1},\n",
    "                       {'config' : '192tasks_48cores_{size}_{data_range}'.format(size=size,  data_range=data_range),  'nodes' : 2},\n",
    "                       {'config' : '192tasks_96cores_{size}_{data_range}'.format(size=size,  data_range=data_range),  'nodes' : 4},\n",
    "                       {'config' : '192tasks_192cores_{size}_{data_range}'.format(size=size, data_range=data_range), 'nodes' : 8}\n",
    "                      ]\n",
    "\n",
    "relevant_features = ['action', 'duration', 'ttc', 'config', 'nodes', 'client_ttc']"
   ]
  },
  {
   "cell_type": "code",
   "execution_count": 16,
   "metadata": {},
   "outputs": [],
   "source": [
    "raw_weakdf    = pd.DataFrame(columns=relevant_features)\n",
    "raw_strongdf  = pd.DataFrame(columns=relevant_features)\n",
    "\n",
    "for weak_config, strong_config in zip(weak_data_configs, strong_data_configs):\n",
    "\n",
    "    weak_task_profile_files = glob(os.path.join(folder, '*' + weak_config['config'] + '.txt'))\n",
    "    weak_client_profile_files = glob(os.path.join(folder, '*' + weak_config['config'] + '.csv'))\n",
    "        \n",
    "    # gather weak scale data\n",
    "    for task_profile_file, client_profile_file in zip(weak_task_profile_files, weak_client_profile_files):\n",
    "\n",
    "        dask_profiles = daskprofiler(task_profile_file)\n",
    "        client_profiles = pd.read_csv(client_profile_file).set_index('headers')\n",
    "        client_ttc = client_profiles.loc['stop_client']['times'] - client_profiles.loc['start_client']['times']\n",
    "                \n",
    "        compute_profiles = dask_profiles.where(dask_profiles['action'] == 'compute').dropna()\n",
    "        compute_summary  = {'action'     : 'compute',\n",
    "                            'duration'   : compute_profiles['duration'],\n",
    "                            'ttc'        : compute_profiles['stop'].max() - compute_profiles['start'].min(),\n",
    "                            'config'     : weak_config['config'],\n",
    "                            'nodes'      : weak_config['nodes'],\n",
    "                            'client_ttc' : client_ttc\n",
    "                           }\n",
    "        \n",
    "        deserialize_profiles = dask_profiles.where(dask_profiles['action'] == 'deserialize').dropna()\n",
    "        deserialize_summary  = {'action'     : 'deserialize',\n",
    "                                'duration'   : deserialize_profiles['duration'],\n",
    "                                'ttc'        : deserialize_profiles['stop'].max() - deserialize_profiles['start'].min(),\n",
    "                                'config'     : weak_config['config'],\n",
    "                                'nodes'      : weak_config['nodes'],\n",
    "                                'client_ttc' : client_ttc\n",
    "                                }\n",
    "        \n",
    "        raw_weakdf = raw_weakdf.append(compute_summary, ignore_index=True).reset_index(drop=True)\n",
    "        raw_weakdf = raw_weakdf.append(deserialize_summary, ignore_index=True).reset_index(drop=True)\n",
    "    \n",
    "    strong_dask_profile_files = glob(os.path.join(folder, '*' + strong_config['config'] + '.txt'))\n",
    "    strong_client_profile_files = glob(os.path.join(folder, '*' + strong_config['config'] + '.csv'))\n",
    "    \n",
    "    # gather strong scale data\n",
    "    for task_profile_file, client_profile_file in zip(strong_dask_profile_files, strong_client_profile_files):\n",
    "         \n",
    "        dask_profiles = daskprofiler(task_profile_file)\n",
    "        client_profiles = pd.read_csv(client_profile_file).set_index('headers')\n",
    "        client_ttc = client_profiles.loc['stop_client']['times'] - client_profiles.loc['start_client']['times']\n",
    "       \n",
    "        compute_profiles = dask_profiles.where(dask_profiles['action'] == 'compute').dropna()\n",
    "        compute_summary  = {'action'     : 'compute',\n",
    "                            'duration'   : compute_profiles['duration'].mean(),\n",
    "                            'ttc'        : compute_profiles['stop'].max() - compute_profiles['start'].min(),\n",
    "                            'config'     : weak_config['config'],\n",
    "                            'nodes'      : weak_config['nodes'],\n",
    "                            'client_ttc' : client_ttc\n",
    "                           }\n",
    "        \n",
    "        deserialize_profiles = dask_profiles.where(dask_profiles['action'] == 'deserialize').dropna()\n",
    "        deserialize_summary  = {'action'     : 'deserialize',\n",
    "                                'duration'   : deserialize_profiles['duration'].mean(),\n",
    "                                'ttc'        : deserialize_profiles['stop'].max() - deserialize_profiles['start'].min(),\n",
    "                                'config'     : weak_config['config'],\n",
    "                                'nodes'      : weak_config['nodes'],\n",
    "                                'client_ttc' : client_ttc\n",
    "                                }\n",
    "        \n",
    "        raw_strongdf = raw_strongdf.append(compute_summary, ignore_index=True).reset_index(drop=True)\n",
    "        raw_strongdf = raw_strongdf.append(deserialize_summary, ignore_index=True).reset_index(drop=True)\n",
    "\n",
    "        \n",
    "weak_compute_df = raw_weakdf.where(raw_weakdf['action'] == 'compute').dropna().reset_index(drop=True)\n",
    "\n",
    "strong_compute_df = raw_strongdf.where(raw_strongdf['action'] == 'compute').dropna().reset_index(drop=True)\n",
    "\n",
    "try:\n",
    "    weak_mean    = weak_compute_df[['client_ttc', 'ttc', 'nodes', 'action']].groupby(['nodes', 'action']).mean().unstack()\n",
    "    weak_error   = weak_compute_df[['client_ttc', 'ttc', 'nodes', 'action']].groupby(['nodes', 'action']).std().unstack()\n",
    "except KeyError:\n",
    "    pass\n",
    "\n",
    "try:\n",
    "    strong_mean  = strong_compute_df[['client_ttc', 'ttc', 'nodes', 'action']].groupby(['nodes', 'action']).mean().unstack()\n",
    "    strong_error = strong_compute_df[['client_ttc', 'ttc', 'nodes', 'action']].groupby(['nodes', 'action']).std().unstack()\n",
    "except KeyError:\n",
    "    pass\n"
   ]
  },
  {
   "cell_type": "code",
   "execution_count": 17,
   "metadata": {},
   "outputs": [
    {
     "data": {
      "text/html": [
       "<div>\n",
       "<style scoped>\n",
       "    .dataframe tbody tr th:only-of-type {\n",
       "        vertical-align: middle;\n",
       "    }\n",
       "\n",
       "    .dataframe tbody tr th {\n",
       "        vertical-align: top;\n",
       "    }\n",
       "\n",
       "    .dataframe thead tr th {\n",
       "        text-align: left;\n",
       "    }\n",
       "\n",
       "    .dataframe thead tr:last-of-type th {\n",
       "        text-align: right;\n",
       "    }\n",
       "</style>\n",
       "<table border=\"1\" class=\"dataframe\">\n",
       "  <thead>\n",
       "    <tr>\n",
       "      <th></th>\n",
       "      <th>client_ttc</th>\n",
       "      <th>ttc</th>\n",
       "    </tr>\n",
       "    <tr>\n",
       "      <th>action</th>\n",
       "      <th>compute</th>\n",
       "      <th>compute</th>\n",
       "    </tr>\n",
       "    <tr>\n",
       "      <th>nodes</th>\n",
       "      <th></th>\n",
       "      <th></th>\n",
       "    </tr>\n",
       "  </thead>\n",
       "  <tbody>\n",
       "    <tr>\n",
       "      <th>1</th>\n",
       "      <td>11927.068184</td>\n",
       "      <td>11926.776758</td>\n",
       "    </tr>\n",
       "    <tr>\n",
       "      <th>2</th>\n",
       "      <td>6024.379216</td>\n",
       "      <td>6024.172687</td>\n",
       "    </tr>\n",
       "    <tr>\n",
       "      <th>4</th>\n",
       "      <td>3079.654619</td>\n",
       "      <td>3079.506129</td>\n",
       "    </tr>\n",
       "    <tr>\n",
       "      <th>8</th>\n",
       "      <td>2017.809658</td>\n",
       "      <td>2017.615900</td>\n",
       "    </tr>\n",
       "  </tbody>\n",
       "</table>\n",
       "</div>"
      ],
      "text/plain": [
       "          client_ttc           ttc\n",
       "action       compute       compute\n",
       "nodes                             \n",
       "1       11927.068184  11926.776758\n",
       "2        6024.379216   6024.172687\n",
       "4        3079.654619   3079.506129\n",
       "8        2017.809658   2017.615900"
      ]
     },
     "execution_count": 17,
     "metadata": {},
     "output_type": "execute_result"
    }
   ],
   "source": [
    "strong_mean"
   ]
  },
  {
   "cell_type": "code",
   "execution_count": 18,
   "metadata": {},
   "outputs": [
    {
     "data": {
      "text/html": [
       "<div>\n",
       "<style scoped>\n",
       "    .dataframe tbody tr th:only-of-type {\n",
       "        vertical-align: middle;\n",
       "    }\n",
       "\n",
       "    .dataframe tbody tr th {\n",
       "        vertical-align: top;\n",
       "    }\n",
       "\n",
       "    .dataframe thead tr th {\n",
       "        text-align: left;\n",
       "    }\n",
       "\n",
       "    .dataframe thead tr:last-of-type th {\n",
       "        text-align: right;\n",
       "    }\n",
       "</style>\n",
       "<table border=\"1\" class=\"dataframe\">\n",
       "  <thead>\n",
       "    <tr>\n",
       "      <th></th>\n",
       "      <th>client_ttc</th>\n",
       "      <th>ttc</th>\n",
       "    </tr>\n",
       "    <tr>\n",
       "      <th>action</th>\n",
       "      <th>compute</th>\n",
       "      <th>compute</th>\n",
       "    </tr>\n",
       "    <tr>\n",
       "      <th>nodes</th>\n",
       "      <th></th>\n",
       "      <th></th>\n",
       "    </tr>\n",
       "  </thead>\n",
       "  <tbody>\n",
       "    <tr>\n",
       "      <th>1</th>\n",
       "      <td>893.098257</td>\n",
       "      <td>893.091887</td>\n",
       "    </tr>\n",
       "    <tr>\n",
       "      <th>2</th>\n",
       "      <td>172.123511</td>\n",
       "      <td>172.134548</td>\n",
       "    </tr>\n",
       "    <tr>\n",
       "      <th>4</th>\n",
       "      <td>168.989332</td>\n",
       "      <td>168.978586</td>\n",
       "    </tr>\n",
       "    <tr>\n",
       "      <th>8</th>\n",
       "      <td>248.307816</td>\n",
       "      <td>248.321342</td>\n",
       "    </tr>\n",
       "  </tbody>\n",
       "</table>\n",
       "</div>"
      ],
      "text/plain": [
       "        client_ttc         ttc\n",
       "action     compute     compute\n",
       "nodes                         \n",
       "1       893.098257  893.091887\n",
       "2       172.123511  172.134548\n",
       "4       168.989332  168.978586\n",
       "8       248.307816  248.321342"
      ]
     },
     "execution_count": 18,
     "metadata": {},
     "output_type": "execute_result"
    }
   ],
   "source": [
    "strong_error"
   ]
  },
  {
   "cell_type": "markdown",
   "metadata": {},
   "source": [
    "# Weak and Strong Scaling Plots"
   ]
  },
  {
   "cell_type": "markdown",
   "metadata": {},
   "source": [
    "### Constants"
   ]
  },
  {
   "cell_type": "code",
   "execution_count": 19,
   "metadata": {},
   "outputs": [],
   "source": [
    "yticks = [1, 10, 100, 1000, 10000, 100000]\n",
    "yticklabels = [str(ytick) for ytick in yticks]\n",
    "\n",
    "xticklabels = ['1','2','4','8']\n",
    "\n",
    "blues   = cm.get_cmap(plt.get_cmap('Blues'))\n",
    "greens  = cm.get_cmap(plt.get_cmap('Greens'))\n",
    "reds    = cm.get_cmap(plt.get_cmap('Reds'))\n",
    "oranges = cm.get_cmap(plt.get_cmap('Oranges'))\n",
    "purples = cm.get_cmap(plt.get_cmap('Purples'))\n",
    "greys   = cm.get_cmap(plt.get_cmap('Greys'))\n",
    "\n",
    "weak_client_color = blues(0.7)\n",
    "weak_task_color = blues(0.4)\n",
    "strong_client_color = oranges(0.5)\n",
    "strong_task_color = oranges(0.2)"
   ]
  },
  {
   "cell_type": "code",
   "execution_count": 20,
   "metadata": {},
   "outputs": [
    {
     "data": {
      "text/plain": [
       "<matplotlib.legend.Legend at 0x7fcbb2c328d0>"
      ]
     },
     "execution_count": 20,
     "metadata": {},
     "output_type": "execute_result"
    },
    {
     "data": {
      "image/png": "[encoded data removed]",
      "text/plain": [
       "<Figure size 864x720 with 2 Axes>"
      ]
     },
     "metadata": {
      "needs_background": "light"
     },
     "output_type": "display_data"
    }
   ],
   "source": [
    "fig, axes = plt.subplots(nrows=2,ncols=1,sharex=True,sharey=True)\n",
    "fig.set_size_inches(12,10)\n",
    "\n",
    "weak_kwargs    = {\n",
    "                 'kind'     : 'bar',\n",
    "                 'log'      : True,\n",
    "                 'fontsize' : 14,\n",
    "                 'title'    : 'Weak Scaling of Watershed Algorithm Using Dask (24 tasks per node)',\n",
    "                 'ax'       : axes[0],\n",
    "                 'yerr'     : weak_error,\n",
    "                 'color'    : [weak_client_color, weak_task_color]\n",
    "                  }\n",
    "strong_kwargs  = {\n",
    "                 'kind'     : 'bar',\n",
    "                 'log'      : True,\n",
    "                 'fontsize' : 14,\n",
    "                 'title'    : 'Strong Scaling of Watershed Algorithm Using Dask (192 tasks in total)',\n",
    "                 'ax'       : axes[1],\n",
    "                 'yerr'     : strong_error,\n",
    "                 'color'    : [strong_client_color, strong_task_color]\n",
    "                }\n",
    "\n",
    "weak_scale_plot = weak_mean.plot(**weak_kwargs)\n",
    "weak_scale_plot.set_ylabel('Duration (seconds)', fontsize=14)\n",
    "weak_scale_plot.set_ylim(bottom=min(yticks), top=max(yticks))\n",
    "weak_scale_plot.set_yticks(yticks)\n",
    "weak_scale_plot.set_yticklabels(yticklabels, fontsize=14)\n",
    "weak_scale_plot.grid('on', which='both', linestyle=':')\n",
    "axes[0].legend(['Total Time for Client', 'Total Time for Task Execution'])\n",
    "\n",
    "strong_scale_plot = strong_mean.plot(**strong_kwargs)\n",
    "strong_scale_plot.set_ylabel('Duration (seconds)', fontsize=14)\n",
    "strong_scale_plot.set_ylim(bottom=min(yticks), top=max(yticks))\n",
    "strong_scale_plot.set_yticks(yticks)\n",
    "strong_scale_plot.set_yticklabels(yticklabels, fontsize=14)\n",
    "strong_scale_plot.set_xticklabels(['1','2','4','8'], rotation=0, fontsize=14)\n",
    "strong_scale_plot.grid('on', which='both', linestyle=':')\n",
    "strong_scale_plot.set_xlabel('Nodes', fontsize=14)\n",
    "axes[1].legend(['Total Time for Client', 'Total Time for Task Execution'])"
   ]
  },
  {
   "cell_type": "markdown",
   "metadata": {},
   "source": [
    "# Speedup Plots"
   ]
  },
  {
   "cell_type": "markdown",
   "metadata": {},
   "source": [
    "### Constants"
   ]
  },
  {
   "cell_type": "code",
   "execution_count": 21,
   "metadata": {},
   "outputs": [],
   "source": [
    "weak_speedups = pd.DataFrame(columns=['nodes', 'speedup'])\n",
    "for i in range(len(weak_mean['ttc']['compute'])):\n",
    "    nodes   = weak_mean.index.get_values()[i]\n",
    "    speedup = weak_mean['ttc']['compute'].iloc[0] / weak_mean['ttc']['compute'].iloc[i]\n",
    "    data = {'nodes': nodes, 'speedup': speedup}\n",
    "    weak_speedups = weak_speedups.append(data, ignore_index=True).reset_index(drop=True)\n",
    "weak_speedups = weak_speedups.set_index('nodes')\n",
    "\n",
    "strong_speedups = pd.DataFrame(columns=['nodes', 'speedup'])\n",
    "for i in range(len(strong_mean['ttc']['compute'])):\n",
    "    nodes   = strong_mean.index.get_values()[i]\n",
    "    speedup = strong_mean['ttc']['compute'].iloc[0] / strong_mean['ttc']['compute'].iloc[i]\n",
    "    data = {'nodes': nodes, 'speedup': speedup}\n",
    "    strong_speedups = strong_speedups.append(data, ignore_index=True).reset_index(drop=True)\n",
    "strong_speedups = strong_speedups.set_index('nodes')\n",
    "\n",
    "yticks = list(range(9))\n",
    "yticklabels = [str(i) for i in range(9)]\n",
    "\n",
    "xticks = [1,2,4,8]\n",
    "xticklabels = [str(i) for i in xticks]\n",
    "\n",
    "weak_color = blues(0.7)\n",
    "strong_color = oranges(0.5)"
   ]
  },
  {
   "cell_type": "code",
   "execution_count": 22,
   "metadata": {
    "scrolled": false
   },
   "outputs": [
    {
     "data": {
      "text/plain": [
       "<matplotlib.legend.Legend at 0x7fcbb1096f90>"
      ]
     },
     "execution_count": 22,
     "metadata": {},
     "output_type": "execute_result"
    },
    {
     "data": {
      "image/png": "[encoded data removed]",
      "text/plain": [
       "<Figure size 864x720 with 2 Axes>"
      ]
     },
     "metadata": {
      "needs_background": "light"
     },
     "output_type": "display_data"
    }
   ],
   "source": [
    "fig, axes = plt.subplots(nrows=2,ncols=1,sharex=True,sharey=True)\n",
    "fig.set_size_inches(12,10)\n",
    "\n",
    "weak_kwargs    = {\n",
    "                 'kind'     : 'line',\n",
    "                 'fontsize' : 14,\n",
    "                 'title'    : 'Speedup of Weak Scaling of Watershed Algorithm Using Dask (24 tasks per node)',\n",
    "                 'ax'       : axes[0],\n",
    "                 'color'    : [blues(0.7)]\n",
    "                  }\n",
    "strong_kwargs  = {\n",
    "                 'kind'     : 'line',\n",
    "                 'fontsize' : 14,\n",
    "                 'title'    : 'Speedup of Strong Scaling of Watershed Algorithm Using Dask (192 tasks in total)',\n",
    "                 'ax'       : axes[1],\n",
    "                 'color'    : [oranges(0.5)]\n",
    "                }\n",
    "\n",
    "weak_speedups_plot = weak_speedups.plot(**weak_kwargs)\n",
    "weak_speedups_plot.set_ylabel('Speedup', fontsize=14)\n",
    "weak_speedups_plot.set_ylim(bottom=0, top=8)\n",
    "weak_speedups_plot.set_yticks(yticks)\n",
    "weak_speedups_plot.set_yticklabels(yticklabels, fontsize=14)\n",
    "weak_speedups_plot.set_xscale('log', basex=2)\n",
    "weak_speedups_plot.set_xlabel('Nodes', fontsize=14)\n",
    "weak_speedups_plot.grid('on', which='both', linestyle=':')\n",
    "axes[0].legend(['Speedup'])\n",
    "\n",
    "strong_speedups_plot = strong_speedups.plot(**strong_kwargs)\n",
    "strong_speedups_plot.set_ylabel('Speedup', fontsize=14)\n",
    "strong_speedups_plot.set_ylim(bottom=0, top=8)\n",
    "strong_speedups_plot.set_yticks(yticks)\n",
    "strong_speedups_plot.set_yticklabels(yticklabels, fontsize=14)\n",
    "strong_speedups_plot.set_xlabel('Nodes', fontsize=14)\n",
    "strong_speedups_plot.set_xscale('log', basex=2)\n",
    "strong_speedups_plot.set_xticks(xticks)\n",
    "strong_speedups_plot.set_xticklabels(xticklabels, rotation=0, fontsize=14)\n",
    "strong_speedups_plot.grid('on', which='both', linestyle=':')\n",
    "axes[1].legend(['Speedup'])"
   ]
  },
  {
   "cell_type": "markdown",
   "metadata": {},
   "source": [
    "# Plot Event Profiling of Dask"
   ]
  },
  {
   "cell_type": "markdown",
   "metadata": {},
   "source": [
    "### Constants"
   ]
  },
  {
   "cell_type": "code",
   "execution_count": null,
   "metadata": {},
   "outputs": [],
   "source": [
    "csv_file = ''\n",
    "raw_datadf = pd.read_csv(csv_file)\n",
    "raw_datadf['times'] -= raw_datadf['times'][0]\n",
    "raw_datadf['times_index'] = [1,1,2,2,3,3]"
   ]
  },
  {
   "cell_type": "code",
   "execution_count": null,
   "metadata": {},
   "outputs": [],
   "source": [
    "fig, axes = plt.subplots(nrows=1,ncols=1,sharex=True,sharey=True)\n",
    "fig.set_size_inches(15,3)\n",
    "\n",
    "csv_file = os.path.join(folder, 'profiles_dask_24tasks_24cores_%s.csv' % 11)\n",
    "\n",
    "for key, group in raw_datadf.groupby('times_index'):\n",
    "    axes.plot(group.times, group.times_index, marker='o')\n",
    "    axes.set_ylabel('Events',fontsize=14)\n",
    "    axes.set_yticks([i for i in range(1,4)])\n",
    "    axes.set_yticklabels([])\n",
    "    axes.set_xlabel('Time in Seconds',fontsize=14)\n",
    "    axes.set_xscale('log')\n",
    "    axes.set_xticks([10**i for i in range(-3,4)])\n",
    "    axes.set_xticklabels([str(10**i) for i in range(-3,4)], fontsize=14)\n",
    "    axes.set_title('Event Profiling of Dask Using Run %s' % ('profiles_dask_24tasks_24cores_%s' % 10), fontsize=14)  \n",
    "    axes.grid('on', which='both', linestyle=':')\n",
    "    handles, labels = axes.get_legend_handles_labels()\n",
    "    axes.legend(reversed(handles), ['client', 'create tasks', 'compute'], loc='upper left', fontsize=14)\n",
    "    \n",
    "plt.show()"
   ]
  }
 ],
 "metadata": {
  "kernelspec": {
   "display_name": "Python 2",
   "language": "python",
   "name": "python2"
  },
  "language_info": {
   "codemirror_mode": {
    "name": "ipython",
    "version": 2
   },
   "file_extension": ".py",
   "mimetype": "text/x-python",
   "name": "python",
   "nbconvert_exporter": "python",
   "pygments_lexer": "ipython2",
   "version": "2.7.15"
  }
 },
 "nbformat": 4,
 "nbformat_minor": 2
}
